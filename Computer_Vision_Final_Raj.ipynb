{
 "cells": [
  {
   "cell_type": "markdown",
   "id": "a6f17a05",
   "metadata": {
    "id": "a6f17a05"
   },
   "source": [
    "Embryo classification based on microscopic images  "
   ]
  },
  {
   "cell_type": "code",
   "id": "t2rsr4H1da54",
   "metadata": {
    "colab": {
     "base_uri": "https://localhost:8080/"
    },
    "id": "t2rsr4H1da54",
    "outputId": "54e5035e-e09c-484b-abf8-710f820272b2",
    "ExecuteTime": {
     "end_time": "2024-07-06T14:14:43.609321Z",
     "start_time": "2024-07-06T14:14:41.573731Z"
    }
   },
   "source": [
    "pip install timm"
   ],
   "outputs": [
    {
     "name": "stdout",
     "output_type": "stream",
     "text": [
      "Collecting timm\r\n",
      "  Downloading timm-1.0.7-py3-none-any.whl.metadata (47 kB)\r\n",
      "\u001B[2K     \u001B[90m━━━━━━━━━━━━━━━━━━━━━━━━━━━━━━━━━━━━━━━━\u001B[0m \u001B[32m47.5/47.5 kB\u001B[0m \u001B[31m2.7 MB/s\u001B[0m eta \u001B[36m0:00:00\u001B[0m\r\n",
      "\u001B[?25hRequirement already satisfied: torch in ./venv/lib/python3.9/site-packages (from timm) (2.3.1)\r\n",
      "Requirement already satisfied: torchvision in ./venv/lib/python3.9/site-packages (from timm) (0.18.1)\r\n",
      "Requirement already satisfied: pyyaml in ./venv/lib/python3.9/site-packages (from timm) (6.0.1)\r\n",
      "Collecting huggingface_hub (from timm)\r\n",
      "  Downloading huggingface_hub-0.23.4-py3-none-any.whl.metadata (12 kB)\r\n",
      "Collecting safetensors (from timm)\r\n",
      "  Downloading safetensors-0.4.3-cp39-cp39-macosx_11_0_arm64.whl.metadata (3.8 kB)\r\n",
      "Requirement already satisfied: filelock in ./venv/lib/python3.9/site-packages (from huggingface_hub->timm) (3.15.4)\r\n",
      "Requirement already satisfied: fsspec>=2023.5.0 in ./venv/lib/python3.9/site-packages (from huggingface_hub->timm) (2024.6.1)\r\n",
      "Requirement already satisfied: packaging>=20.9 in ./venv/lib/python3.9/site-packages (from huggingface_hub->timm) (24.1)\r\n",
      "Requirement already satisfied: requests in ./venv/lib/python3.9/site-packages (from huggingface_hub->timm) (2.32.3)\r\n",
      "Requirement already satisfied: tqdm>=4.42.1 in ./venv/lib/python3.9/site-packages (from huggingface_hub->timm) (4.66.4)\r\n",
      "Requirement already satisfied: typing-extensions>=3.7.4.3 in ./venv/lib/python3.9/site-packages (from huggingface_hub->timm) (4.12.2)\r\n",
      "Requirement already satisfied: sympy in ./venv/lib/python3.9/site-packages (from torch->timm) (1.12.1)\r\n",
      "Requirement already satisfied: networkx in ./venv/lib/python3.9/site-packages (from torch->timm) (3.2.1)\r\n",
      "Requirement already satisfied: jinja2 in ./venv/lib/python3.9/site-packages (from torch->timm) (3.1.4)\r\n",
      "Requirement already satisfied: numpy in ./venv/lib/python3.9/site-packages (from torchvision->timm) (2.0.0)\r\n",
      "Requirement already satisfied: pillow!=8.3.*,>=5.3.0 in ./venv/lib/python3.9/site-packages (from torchvision->timm) (10.4.0)\r\n",
      "Requirement already satisfied: MarkupSafe>=2.0 in ./venv/lib/python3.9/site-packages (from jinja2->torch->timm) (2.1.5)\r\n",
      "Requirement already satisfied: charset-normalizer<4,>=2 in ./venv/lib/python3.9/site-packages (from requests->huggingface_hub->timm) (3.3.2)\r\n",
      "Requirement already satisfied: idna<4,>=2.5 in ./venv/lib/python3.9/site-packages (from requests->huggingface_hub->timm) (3.7)\r\n",
      "Requirement already satisfied: urllib3<3,>=1.21.1 in ./venv/lib/python3.9/site-packages (from requests->huggingface_hub->timm) (2.2.2)\r\n",
      "Requirement already satisfied: certifi>=2017.4.17 in ./venv/lib/python3.9/site-packages (from requests->huggingface_hub->timm) (2024.7.4)\r\n",
      "Requirement already satisfied: mpmath<1.4.0,>=1.1.0 in ./venv/lib/python3.9/site-packages (from sympy->torch->timm) (1.3.0)\r\n",
      "Downloading timm-1.0.7-py3-none-any.whl (2.3 MB)\r\n",
      "\u001B[2K   \u001B[90m━━━━━━━━━━━━━━━━━━━━━━━━━━━━━━━━━━━━━━━━\u001B[0m \u001B[32m2.3/2.3 MB\u001B[0m \u001B[31m7.2 MB/s\u001B[0m eta \u001B[36m0:00:00\u001B[0ma \u001B[36m0:00:01\u001B[0m\r\n",
      "\u001B[?25hDownloading huggingface_hub-0.23.4-py3-none-any.whl (402 kB)\r\n",
      "\u001B[2K   \u001B[90m━━━━━━━━━━━━━━━━━━━━━━━━━━━━━━━━━━━━━━━━\u001B[0m \u001B[32m402.6/402.6 kB\u001B[0m \u001B[31m6.8 MB/s\u001B[0m eta \u001B[36m0:00:00\u001B[0ma \u001B[36m0:00:01\u001B[0m\r\n",
      "\u001B[?25hDownloading safetensors-0.4.3-cp39-cp39-macosx_11_0_arm64.whl (411 kB)\r\n",
      "\u001B[2K   \u001B[90m━━━━━━━━━━━━━━━━━━━━━━━━━━━━━━━━━━━━━━━━\u001B[0m \u001B[32m411.3/411.3 kB\u001B[0m \u001B[31m7.2 MB/s\u001B[0m eta \u001B[36m0:00:00\u001B[0ma \u001B[36m0:00:01\u001B[0m\r\n",
      "\u001B[?25hInstalling collected packages: safetensors, huggingface_hub, timm\r\n",
      "Successfully installed huggingface_hub-0.23.4 safetensors-0.4.3 timm-1.0.7\r\n",
      "Note: you may need to restart the kernel to use updated packages.\n"
     ]
    }
   ],
   "execution_count": 1
  },
  {
   "cell_type": "code",
   "id": "MbHRD5K35fEf",
   "metadata": {
    "colab": {
     "base_uri": "https://localhost:8080/"
    },
    "id": "MbHRD5K35fEf",
    "outputId": "b3064d4d-34f3-4980-820f-1ddd15791b78",
    "ExecuteTime": {
     "end_time": "2024-07-06T14:14:44.130753Z",
     "start_time": "2024-07-06T14:14:43.611695Z"
    }
   },
   "source": [
    "pip install tabulate"
   ],
   "outputs": [
    {
     "name": "stdout",
     "output_type": "stream",
     "text": [
      "Requirement already satisfied: tabulate in ./venv/lib/python3.9/site-packages (0.9.0)\r\n",
      "Note: you may need to restart the kernel to use updated packages.\n"
     ]
    }
   ],
   "execution_count": 2
  },
  {
   "cell_type": "markdown",
   "id": "fbeb2b70",
   "metadata": {
    "id": "fbeb2b70"
   },
   "source": [
    "<a id=\"1\"></a>\n",
    "# **<center><span style=\"color:#005dc4;\">Import Libraries</span></center>**"
   ]
  },
  {
   "cell_type": "code",
   "id": "UqSKGFk9YtRE",
   "metadata": {
    "id": "UqSKGFk9YtRE",
    "ExecuteTime": {
     "end_time": "2024-07-06T14:15:20.380728Z",
     "start_time": "2024-07-06T14:14:44.132063Z"
    }
   },
   "source": [
    "import numpy as np\n",
    "import pandas as pd\n",
    "import os\n",
    "import matplotlib.pyplot as plt\n",
    "import cv2\n",
    "from tqdm.notebook import tqdm\n",
    "\n",
    "import torch\n",
    "import torchvision\n",
    "from torchvision import transforms\n",
    "from torch.utils.data import Dataset, DataLoader, Subset\n",
    "import torchvision.transforms.v2 as t\n",
    "from torchvision import models\n",
    "import torch.nn as nn\n",
    "from sklearn.metrics import accuracy_score, roc_auc_score\n",
    "import torch.nn.functional as F\n",
    "from tabulate import tabulate\n",
    "from sklearn.model_selection import KFold, StratifiedKFold\n",
    "from sklearn.model_selection import train_test_split\n",
    "import gc\n",
    "from torch.optim.lr_scheduler import ReduceLROnPlateau\n",
    "from sklearn.svm import SVC\n",
    "from sklearn.ensemble import RandomForestClassifier\n",
    "from sklearn.preprocessing import StandardScaler\n",
    "from sklearn.pipeline import make_pipeline"
   ],
   "outputs": [
    {
     "name": "stderr",
     "output_type": "stream",
     "text": [
      "Matplotlib is building the font cache; this may take a moment.\n"
     ]
    }
   ],
   "execution_count": 3
  },
  {
   "metadata": {
    "ExecuteTime": {
     "end_time": "2024-07-06T14:15:20.385005Z",
     "start_time": "2024-07-06T14:15:20.382698Z"
    }
   },
   "cell_type": "code",
   "source": "",
   "id": "4d88ec3ed7afadde",
   "outputs": [],
   "execution_count": 3
  },
  {
   "cell_type": "code",
   "id": "tv_hh-121Tbq",
   "metadata": {
    "id": "tv_hh-121Tbq",
    "ExecuteTime": {
     "end_time": "2024-07-06T14:15:20.389709Z",
     "start_time": "2024-07-06T14:15:20.386620Z"
    }
   },
   "source": [
    "import torch\n",
    "import torch.nn as nn\n",
    "from torchvision import models, transforms\n",
    "from torch.utils.data import Dataset, DataLoader\n",
    "import pandas as pd\n",
    "import numpy as np\n",
    "import cv2\n",
    "from sklearn.model_selection import train_test_split"
   ],
   "outputs": [],
   "execution_count": 4
  },
  {
   "cell_type": "code",
   "id": "pDSf40y61fEL",
   "metadata": {
    "id": "pDSf40y61fEL",
    "ExecuteTime": {
     "end_time": "2024-07-06T14:15:20.396116Z",
     "start_time": "2024-07-06T14:15:20.390958Z"
    }
   },
   "source": [
    "# Set device for training\n",
    "device = torch.device(\"cuda\" if torch.cuda.is_available() else \"cpu\")"
   ],
   "outputs": [],
   "execution_count": 5
  },
  {
   "cell_type": "code",
   "id": "AR4mM9fE1pML",
   "metadata": {
    "id": "AR4mM9fE1pML",
    "ExecuteTime": {
     "end_time": "2024-07-06T14:15:20.415863Z",
     "start_time": "2024-07-06T14:15:20.396830Z"
    }
   },
   "source": [
    "# Data preparation\n",
    "ROOT_PATH = \"hvwc23-20240525T143849Z-001/hvwc23/\"\n",
    "train_df = pd.read_csv(f'{ROOT_PATH}/train.csv')\n",
    "train_df['path'] = ROOT_PATH + 'train/' + train_df['Image']"
   ],
   "outputs": [],
   "execution_count": 6
  },
  {
   "cell_type": "code",
   "id": "t-U-9Xse11iz",
   "metadata": {
    "colab": {
     "base_uri": "https://localhost:8080/"
    },
    "id": "t-U-9Xse11iz",
    "outputId": "1b2ff579-7544-4604-f36d-1b12298a6286",
    "ExecuteTime": {
     "end_time": "2024-07-06T14:15:20.419330Z",
     "start_time": "2024-07-06T14:15:20.416607Z"
    }
   },
   "source": [
    "print(train_df.shape)"
   ],
   "outputs": [
    {
     "name": "stdout",
     "output_type": "stream",
     "text": [
      "(840, 3)\n"
     ]
    }
   ],
   "execution_count": 7
  },
  {
   "cell_type": "code",
   "id": "Ogt4ZIqz2DUp",
   "metadata": {
    "colab": {
     "base_uri": "https://localhost:8080/",
     "height": 469
    },
    "id": "Ogt4ZIqz2DUp",
    "outputId": "2b341545-aece-4c01-e4d4-f0b19670601b",
    "ExecuteTime": {
     "end_time": "2024-07-06T14:15:20.786481Z",
     "start_time": "2024-07-06T14:15:20.419974Z"
    }
   },
   "source": [
    "# all data visualization\n",
    "labels = train_df['Class'].value_counts()\n",
    "plt.bar(['0','1'], labels.values)\n",
    "print(labels.values)\n",
    "plt.title('Train dataset')\n",
    "plt.show()"
   ],
   "outputs": [
    {
     "name": "stdout",
     "output_type": "stream",
     "text": [
      "[716 124]\n"
     ]
    },
    {
     "data": {
      "text/plain": [
       "<Figure size 640x480 with 1 Axes>"
      ],
      "image/png": "[encoded data removed]"
     },
     "metadata": {},
     "output_type": "display_data"
    }
   ],
   "execution_count": 8
  },
  {
   "cell_type": "code",
   "id": "aXM102Qa2hFv",
   "metadata": {
    "colab": {
     "base_uri": "https://localhost:8080/",
     "height": 447
    },
    "id": "aXM102Qa2hFv",
    "outputId": "e2fdc0a6-1576-4d9f-dec4-0b715768c909",
    "ExecuteTime": {
     "end_time": "2024-07-06T14:15:20.824607Z",
     "start_time": "2024-07-06T14:15:20.787310Z"
    }
   },
   "source": [
    "\n",
    "# contain D3 images\n",
    "D3 = train_df['Image'].apply(lambda x: 'D3_' in x)\n",
    "labels = train_df[D3]['Class'].value_counts()\n",
    "plt.bar(['0','1'], labels.values)\n",
    "plt.show()\n",
    "print(labels.values)"
   ],
   "outputs": [
    {
     "data": {
      "text/plain": [
       "<Figure size 640x480 with 1 Axes>"
      ],
      "image/png": "[encoded data removed]"
     },
     "metadata": {},
     "output_type": "display_data"
    },
    {
     "name": "stdout",
     "output_type": "stream",
     "text": [
      "[538  22]\n"
     ]
    }
   ],
   "execution_count": 9
  },
  {
   "cell_type": "code",
   "id": "o24hM6WG2lJY",
   "metadata": {
    "colab": {
     "base_uri": "https://localhost:8080/",
     "height": 447
    },
    "id": "o24hM6WG2lJY",
    "outputId": "54e2b4e6-ec84-429c-f419-6d18ff1d449e",
    "ExecuteTime": {
     "end_time": "2024-07-06T14:15:20.860680Z",
     "start_time": "2024-07-06T14:15:20.825420Z"
    }
   },
   "source": [
    "\n",
    "\n",
    "# contain D5 images\n",
    "D5 = train_df['Image'].apply(lambda x: 'D5_' in x)\n",
    "labels = train_df[D5]['Class'].value_counts()\n",
    "plt.bar(['0','1'], labels.values)\n",
    "plt.show()\n",
    "print(labels.values)\n"
   ],
   "outputs": [
    {
     "data": {
      "text/plain": [
       "<Figure size 640x480 with 1 Axes>"
      ],
      "image/png": "[encoded data removed]"
     },
     "metadata": {},
     "output_type": "display_data"
    },
    {
     "name": "stdout",
     "output_type": "stream",
     "text": [
      "[178 102]\n"
     ]
    }
   ],
   "execution_count": 10
  },
  {
   "cell_type": "code",
   "id": "GumLSMPQPMeb",
   "metadata": {
    "colab": {
     "base_uri": "https://localhost:8080/"
    },
    "id": "GumLSMPQPMeb",
    "outputId": "4b81df96-ce32-43cd-ac4f-044d94b08325",
    "ExecuteTime": {
     "end_time": "2024-07-06T14:15:31.990758Z",
     "start_time": "2024-07-06T14:15:20.861840Z"
    }
   },
   "source": [
    "!pip install streamlit\n",
    "!pip install pyngrok\n"
   ],
   "outputs": [
    {
     "name": "stdout",
     "output_type": "stream",
     "text": [
      "Collecting streamlit\r\n",
      "  Downloading streamlit-1.36.0-py2.py3-none-any.whl.metadata (8.5 kB)\r\n",
      "Collecting altair<6,>=4.0 (from streamlit)\r\n",
      "  Downloading altair-5.3.0-py3-none-any.whl.metadata (9.2 kB)\r\n",
      "Collecting blinker<2,>=1.0.0 (from streamlit)\r\n",
      "  Downloading blinker-1.8.2-py3-none-any.whl.metadata (1.6 kB)\r\n",
      "Collecting cachetools<6,>=4.0 (from streamlit)\r\n",
      "  Using cached cachetools-5.3.3-py3-none-any.whl.metadata (5.3 kB)\r\n",
      "Collecting click<9,>=7.0 (from streamlit)\r\n",
      "  Using cached click-8.1.7-py3-none-any.whl.metadata (3.0 kB)\r\n",
      "Requirement already satisfied: numpy<3,>=1.20 in ./venv/lib/python3.9/site-packages (from streamlit) (2.0.0)\r\n",
      "Requirement already satisfied: packaging<25,>=20 in ./venv/lib/python3.9/site-packages (from streamlit) (24.1)\r\n",
      "Requirement already satisfied: pandas<3,>=1.3.0 in ./venv/lib/python3.9/site-packages (from streamlit) (2.2.2)\r\n",
      "Requirement already satisfied: pillow<11,>=7.1.0 in ./venv/lib/python3.9/site-packages (from streamlit) (10.4.0)\r\n",
      "Collecting protobuf<6,>=3.20 (from streamlit)\r\n",
      "  Downloading protobuf-5.27.2-cp38-abi3-macosx_10_9_universal2.whl.metadata (592 bytes)\r\n",
      "Collecting pyarrow>=7.0 (from streamlit)\r\n",
      "  Downloading pyarrow-16.1.0-cp39-cp39-macosx_11_0_arm64.whl.metadata (3.0 kB)\r\n",
      "Requirement already satisfied: requests<3,>=2.27 in ./venv/lib/python3.9/site-packages (from streamlit) (2.32.3)\r\n",
      "Collecting rich<14,>=10.14.0 (from streamlit)\r\n",
      "  Using cached rich-13.7.1-py3-none-any.whl.metadata (18 kB)\r\n",
      "Collecting tenacity<9,>=8.1.0 (from streamlit)\r\n",
      "  Downloading tenacity-8.5.0-py3-none-any.whl.metadata (1.2 kB)\r\n",
      "Collecting toml<2,>=0.10.1 (from streamlit)\r\n",
      "  Downloading toml-0.10.2-py2.py3-none-any.whl.metadata (7.1 kB)\r\n",
      "Requirement already satisfied: typing-extensions<5,>=4.3.0 in ./venv/lib/python3.9/site-packages (from streamlit) (4.12.2)\r\n",
      "Collecting gitpython!=3.1.19,<4,>=3.0.7 (from streamlit)\r\n",
      "  Downloading GitPython-3.1.43-py3-none-any.whl.metadata (13 kB)\r\n",
      "Collecting pydeck<1,>=0.8.0b4 (from streamlit)\r\n",
      "  Downloading pydeck-0.9.1-py2.py3-none-any.whl.metadata (4.1 kB)\r\n",
      "Requirement already satisfied: tornado<7,>=6.0.3 in ./venv/lib/python3.9/site-packages (from streamlit) (6.4.1)\r\n",
      "Requirement already satisfied: jinja2 in ./venv/lib/python3.9/site-packages (from altair<6,>=4.0->streamlit) (3.1.4)\r\n",
      "Requirement already satisfied: jsonschema>=3.0 in ./venv/lib/python3.9/site-packages (from altair<6,>=4.0->streamlit) (4.22.0)\r\n",
      "Collecting toolz (from altair<6,>=4.0->streamlit)\r\n",
      "  Using cached toolz-0.12.1-py3-none-any.whl.metadata (5.1 kB)\r\n",
      "Collecting gitdb<5,>=4.0.1 (from gitpython!=3.1.19,<4,>=3.0.7->streamlit)\r\n",
      "  Downloading gitdb-4.0.11-py3-none-any.whl.metadata (1.2 kB)\r\n",
      "Requirement already satisfied: python-dateutil>=2.8.2 in ./venv/lib/python3.9/site-packages (from pandas<3,>=1.3.0->streamlit) (2.9.0.post0)\r\n",
      "Requirement already satisfied: pytz>=2020.1 in ./venv/lib/python3.9/site-packages (from pandas<3,>=1.3.0->streamlit) (2024.1)\r\n",
      "Requirement already satisfied: tzdata>=2022.7 in ./venv/lib/python3.9/site-packages (from pandas<3,>=1.3.0->streamlit) (2024.1)\r\n",
      "Requirement already satisfied: charset-normalizer<4,>=2 in ./venv/lib/python3.9/site-packages (from requests<3,>=2.27->streamlit) (3.3.2)\r\n",
      "Requirement already satisfied: idna<4,>=2.5 in ./venv/lib/python3.9/site-packages (from requests<3,>=2.27->streamlit) (3.7)\r\n",
      "Requirement already satisfied: urllib3<3,>=1.21.1 in ./venv/lib/python3.9/site-packages (from requests<3,>=2.27->streamlit) (2.2.2)\r\n",
      "Requirement already satisfied: certifi>=2017.4.17 in ./venv/lib/python3.9/site-packages (from requests<3,>=2.27->streamlit) (2024.7.4)\r\n",
      "Collecting markdown-it-py>=2.2.0 (from rich<14,>=10.14.0->streamlit)\r\n",
      "  Using cached markdown_it_py-3.0.0-py3-none-any.whl.metadata (6.9 kB)\r\n",
      "Requirement already satisfied: pygments<3.0.0,>=2.13.0 in ./venv/lib/python3.9/site-packages (from rich<14,>=10.14.0->streamlit) (2.18.0)\r\n",
      "Collecting smmap<6,>=3.0.1 (from gitdb<5,>=4.0.1->gitpython!=3.1.19,<4,>=3.0.7->streamlit)\r\n",
      "  Downloading smmap-5.0.1-py3-none-any.whl.metadata (4.3 kB)\r\n",
      "Requirement already satisfied: MarkupSafe>=2.0 in ./venv/lib/python3.9/site-packages (from jinja2->altair<6,>=4.0->streamlit) (2.1.5)\r\n",
      "Requirement already satisfied: attrs>=22.2.0 in ./venv/lib/python3.9/site-packages (from jsonschema>=3.0->altair<6,>=4.0->streamlit) (23.2.0)\r\n",
      "Requirement already satisfied: jsonschema-specifications>=2023.03.6 in ./venv/lib/python3.9/site-packages (from jsonschema>=3.0->altair<6,>=4.0->streamlit) (2023.12.1)\r\n",
      "Requirement already satisfied: referencing>=0.28.4 in ./venv/lib/python3.9/site-packages (from jsonschema>=3.0->altair<6,>=4.0->streamlit) (0.35.1)\r\n",
      "Requirement already satisfied: rpds-py>=0.7.1 in ./venv/lib/python3.9/site-packages (from jsonschema>=3.0->altair<6,>=4.0->streamlit) (0.18.1)\r\n",
      "Collecting mdurl~=0.1 (from markdown-it-py>=2.2.0->rich<14,>=10.14.0->streamlit)\r\n",
      "  Using cached mdurl-0.1.2-py3-none-any.whl.metadata (1.6 kB)\r\n",
      "Requirement already satisfied: six>=1.5 in ./venv/lib/python3.9/site-packages (from python-dateutil>=2.8.2->pandas<3,>=1.3.0->streamlit) (1.16.0)\r\n",
      "Downloading streamlit-1.36.0-py2.py3-none-any.whl (8.6 MB)\r\n",
      "\u001B[2K   \u001B[90m━━━━━━━━━━━━━━━━━━━━━━━━━━━━━━━━━━━━━━━━\u001B[0m \u001B[32m8.6/8.6 MB\u001B[0m \u001B[31m6.6 MB/s\u001B[0m eta \u001B[36m0:00:00\u001B[0m00:01\u001B[0m00:01\u001B[0m\r\n",
      "\u001B[?25hDownloading altair-5.3.0-py3-none-any.whl (857 kB)\r\n",
      "\u001B[2K   \u001B[90m━━━━━━━━━━━━━━━━━━━━━━━━━━━━━━━━━━━━━━━━\u001B[0m \u001B[32m857.8/857.8 kB\u001B[0m \u001B[31m6.7 MB/s\u001B[0m eta \u001B[36m0:00:00\u001B[0ma \u001B[36m0:00:01\u001B[0m\r\n",
      "\u001B[?25hDownloading blinker-1.8.2-py3-none-any.whl (9.5 kB)\r\n",
      "Using cached cachetools-5.3.3-py3-none-any.whl (9.3 kB)\r\n",
      "Using cached click-8.1.7-py3-none-any.whl (97 kB)\r\n",
      "Downloading GitPython-3.1.43-py3-none-any.whl (207 kB)\r\n",
      "\u001B[2K   \u001B[90m━━━━━━━━━━━━━━━━━━━━━━━━━━━━━━━━━━━━━━━━\u001B[0m \u001B[32m207.3/207.3 kB\u001B[0m \u001B[31m6.8 MB/s\u001B[0m eta \u001B[36m0:00:00\u001B[0m\r\n",
      "\u001B[?25hDownloading protobuf-5.27.2-cp38-abi3-macosx_10_9_universal2.whl (412 kB)\r\n",
      "\u001B[2K   \u001B[90m━━━━━━━━━━━━━━━━━━━━━━━━━━━━━━━━━━━━━━━━\u001B[0m \u001B[32m412.2/412.2 kB\u001B[0m \u001B[31m6.8 MB/s\u001B[0m eta \u001B[36m0:00:00\u001B[0ma \u001B[36m0:00:01\u001B[0m\r\n",
      "\u001B[?25hDownloading pyarrow-16.1.0-cp39-cp39-macosx_11_0_arm64.whl (26.0 MB)\r\n",
      "\u001B[2K   \u001B[90m━━━━━━━━━━━━━━━━━━━━━━━━━━━━━━━━━━━━━━━━\u001B[0m \u001B[32m26.0/26.0 MB\u001B[0m \u001B[31m6.7 MB/s\u001B[0m eta \u001B[36m0:00:00\u001B[0m00:01\u001B[0m00:01\u001B[0m\r\n",
      "\u001B[?25hDownloading pydeck-0.9.1-py2.py3-none-any.whl (6.9 MB)\r\n",
      "\u001B[2K   \u001B[90m━━━━━━━━━━━━━━━━━━━━━━━━━━━━━━━━━━━━━━━━\u001B[0m \u001B[32m6.9/6.9 MB\u001B[0m \u001B[31m6.4 MB/s\u001B[0m eta \u001B[36m0:00:00\u001B[0m00:01\u001B[0m00:01\u001B[0m\r\n",
      "\u001B[?25hUsing cached rich-13.7.1-py3-none-any.whl (240 kB)\r\n",
      "Downloading tenacity-8.5.0-py3-none-any.whl (28 kB)\r\n",
      "Downloading toml-0.10.2-py2.py3-none-any.whl (16 kB)\r\n",
      "Downloading gitdb-4.0.11-py3-none-any.whl (62 kB)\r\n",
      "\u001B[2K   \u001B[90m━━━━━━━━━━━━━━━━━━━━━━━━━━━━━━━━━━━━━━━━\u001B[0m \u001B[32m62.7/62.7 kB\u001B[0m \u001B[31m4.0 MB/s\u001B[0m eta \u001B[36m0:00:00\u001B[0m\r\n",
      "\u001B[?25hUsing cached markdown_it_py-3.0.0-py3-none-any.whl (87 kB)\r\n",
      "Using cached toolz-0.12.1-py3-none-any.whl (56 kB)\r\n",
      "Using cached mdurl-0.1.2-py3-none-any.whl (10.0 kB)\r\n",
      "Downloading smmap-5.0.1-py3-none-any.whl (24 kB)\r\n",
      "Installing collected packages: toolz, toml, tenacity, smmap, pyarrow, protobuf, mdurl, click, cachetools, blinker, pydeck, markdown-it-py, gitdb, rich, gitpython, altair, streamlit\r\n",
      "Successfully installed altair-5.3.0 blinker-1.8.2 cachetools-5.3.3 click-8.1.7 gitdb-4.0.11 gitpython-3.1.43 markdown-it-py-3.0.0 mdurl-0.1.2 protobuf-5.27.2 pyarrow-16.1.0 pydeck-0.9.1 rich-13.7.1 smmap-5.0.1 streamlit-1.36.0 tenacity-8.5.0 toml-0.10.2 toolz-0.12.1\r\n",
      "Collecting pyngrok\r\n",
      "  Downloading pyngrok-7.1.6-py3-none-any.whl.metadata (7.4 kB)\r\n",
      "Requirement already satisfied: PyYAML>=5.1 in ./venv/lib/python3.9/site-packages (from pyngrok) (6.0.1)\r\n",
      "Downloading pyngrok-7.1.6-py3-none-any.whl (22 kB)\r\n",
      "Installing collected packages: pyngrok\r\n",
      "Successfully installed pyngrok-7.1.6\r\n"
     ]
    }
   ],
   "execution_count": 11
  },
  {
   "cell_type": "code",
   "id": "P3nu7QXLkWth",
   "metadata": {
    "colab": {
     "base_uri": "https://localhost:8080/"
    },
    "id": "P3nu7QXLkWth",
    "outputId": "a5600985-100c-4719-cf2d-e6430dc3448d",
    "ExecuteTime": {
     "end_time": "2024-07-06T14:15:32.491245Z",
     "start_time": "2024-07-06T14:15:31.992197Z"
    }
   },
   "source": [
    "!pip install pandas matplotlib"
   ],
   "outputs": [
    {
     "name": "stdout",
     "output_type": "stream",
     "text": [
      "Requirement already satisfied: pandas in ./venv/lib/python3.9/site-packages (2.2.2)\r\n",
      "Requirement already satisfied: matplotlib in ./venv/lib/python3.9/site-packages (3.9.1)\r\n",
      "Requirement already satisfied: numpy>=1.22.4 in ./venv/lib/python3.9/site-packages (from pandas) (2.0.0)\r\n",
      "Requirement already satisfied: python-dateutil>=2.8.2 in ./venv/lib/python3.9/site-packages (from pandas) (2.9.0.post0)\r\n",
      "Requirement already satisfied: pytz>=2020.1 in ./venv/lib/python3.9/site-packages (from pandas) (2024.1)\r\n",
      "Requirement already satisfied: tzdata>=2022.7 in ./venv/lib/python3.9/site-packages (from pandas) (2024.1)\r\n",
      "Requirement already satisfied: contourpy>=1.0.1 in ./venv/lib/python3.9/site-packages (from matplotlib) (1.2.1)\r\n",
      "Requirement already satisfied: cycler>=0.10 in ./venv/lib/python3.9/site-packages (from matplotlib) (0.12.1)\r\n",
      "Requirement already satisfied: fonttools>=4.22.0 in ./venv/lib/python3.9/site-packages (from matplotlib) (4.53.1)\r\n",
      "Requirement already satisfied: kiwisolver>=1.3.1 in ./venv/lib/python3.9/site-packages (from matplotlib) (1.4.5)\r\n",
      "Requirement already satisfied: packaging>=20.0 in ./venv/lib/python3.9/site-packages (from matplotlib) (24.1)\r\n",
      "Requirement already satisfied: pillow>=8 in ./venv/lib/python3.9/site-packages (from matplotlib) (10.4.0)\r\n",
      "Requirement already satisfied: pyparsing>=2.3.1 in ./venv/lib/python3.9/site-packages (from matplotlib) (3.1.2)\r\n",
      "Requirement already satisfied: importlib-resources>=3.2.0 in ./venv/lib/python3.9/site-packages (from matplotlib) (6.4.0)\r\n",
      "Requirement already satisfied: zipp>=3.1.0 in ./venv/lib/python3.9/site-packages (from importlib-resources>=3.2.0->matplotlib) (3.19.2)\r\n",
      "Requirement already satisfied: six>=1.5 in ./venv/lib/python3.9/site-packages (from python-dateutil>=2.8.2->pandas) (1.16.0)\r\n"
     ]
    }
   ],
   "execution_count": 12
  },
  {
   "cell_type": "code",
   "id": "5aCdKrcakgyd",
   "metadata": {
    "colab": {
     "base_uri": "https://localhost:8080/"
    },
    "id": "5aCdKrcakgyd",
    "outputId": "7f2c2485-c8a5-4c5b-82f1-f5e30ba32ef9",
    "ExecuteTime": {
     "end_time": "2024-07-06T14:15:32.499561Z",
     "start_time": "2024-07-06T14:15:32.495088Z"
    }
   },
   "source": [
    "'''\n",
    "%%writefile app.py\n",
    "import streamlit as st\n",
    "import torch\n",
    "from torchvision import models, transforms\n",
    "import cv2\n",
    "import numpy as np\n",
    "import torch.nn as nn\n",
    "\n",
    "# Define the CNN model class as used previously\n",
    "class CNNModel(nn.Module):\n",
    "    def __init__(self):\n",
    "        super().__init__()\n",
    "        self.base_model = models.resnet18(pretrained=True)\n",
    "        self.base_model.fc = nn.Linear(self.base_model.fc.in_features, 2)\n",
    "\n",
    "    def forward(self, x):\n",
    "        return self.base_model(x)\n",
    "\n",
    "# Load the saved models\n",
    "device = torch.device(\"cuda\" if torch.cuda.is_available() else \"cpu\")\n",
    "model = CNNModel().to(device)\n",
    "model.load_state_dict(torch.load('best_trained_model.pth'))\n",
    "\n",
    "# Define preprocessing for uploaded images\n",
    "def preprocess_jpeg(jpeg_path):\n",
    "    img = cv2.imread(jpeg_path)\n",
    "    img = cv2.cvtColor(img, cv2.COLOR_BGR2RGB)\n",
    "    img = cv2.resize(img, (224, 224))\n",
    "    return transforms.ToTensor()(img).unsqueeze(0).to(device)\n",
    "\n",
    "# Prediction function\n",
    "def predict_image(image_tensor):\n",
    "    model.eval()\n",
    "    with torch.no_grad():\n",
    "        outputs = model(image_tensor)\n",
    "        _, predicted = torch.max(outputs.data, 1)\n",
    "    return predicted.item()\n",
    "\n",
    "# Streamlit interface\n",
    "st.title('Embryo Image Classification Dashboard')\n",
    "uploaded_file = st.file_uploader(\"Choose an embryo image...\", type=[\"jpg\", \"jpeg\", \"png\"])\n",
    "\n",
    "if uploaded_file is not None:\n",
    "    image_path = f\"temp_image.{uploaded_file.type.split('/')[1]}\"\n",
    "    with open(image_path, \"wb\") as f:\n",
    "        f.write(uploaded_file.getbuffer())\n",
    "    st.image(image_path, caption='Uploaded Image.', use_column_width=True)\n",
    "    image_tensor = preprocess_jpeg(image_path)\n",
    "    if st.button('Predict'):\n",
    "        prediction = predict_image(image_tensor)\n",
    "        st.write(\"Prediction: **{}**\".format(\"Good Embryo\" if prediction == 1 else \"Bad Embryo\"))\n",
    "'''"
   ],
   "outputs": [
    {
     "data": {
      "text/plain": [
       "'\\n%%writefile app.py\\nimport streamlit as st\\nimport torch\\nfrom torchvision import models, transforms\\nimport cv2\\nimport numpy as np\\nimport torch.nn as nn\\n\\n# Define the CNN model class as used previously\\nclass CNNModel(nn.Module):\\n    def __init__(self):\\n        super().__init__()\\n        self.base_model = models.resnet18(pretrained=True)\\n        self.base_model.fc = nn.Linear(self.base_model.fc.in_features, 2)\\n\\n    def forward(self, x):\\n        return self.base_model(x)\\n\\n# Load the saved models\\ndevice = torch.device(\"cuda\" if torch.cuda.is_available() else \"cpu\")\\nmodel = CNNModel().to(device)\\nmodel.load_state_dict(torch.load(\\'best_trained_model.pth\\'))\\n\\n# Define preprocessing for uploaded images\\ndef preprocess_jpeg(jpeg_path):\\n    img = cv2.imread(jpeg_path)\\n    img = cv2.cvtColor(img, cv2.COLOR_BGR2RGB)\\n    img = cv2.resize(img, (224, 224))\\n    return transforms.ToTensor()(img).unsqueeze(0).to(device)\\n\\n# Prediction function\\ndef predict_image(image_tensor):\\n    model.eval()\\n    with torch.no_grad():\\n        outputs = model(image_tensor)\\n        _, predicted = torch.max(outputs.data, 1)\\n    return predicted.item()\\n\\n# Streamlit interface\\nst.title(\\'Embryo Image Classification Dashboard\\')\\nuploaded_file = st.file_uploader(\"Choose an embryo image...\", type=[\"jpg\", \"jpeg\", \"png\"])\\n\\nif uploaded_file is not None:\\n    image_path = f\"temp_image.{uploaded_file.type.split(\\'/\\')[1]}\"\\n    with open(image_path, \"wb\") as f:\\n        f.write(uploaded_file.getbuffer())\\n    st.image(image_path, caption=\\'Uploaded Image.\\', use_column_width=True)\\n    image_tensor = preprocess_jpeg(image_path)\\n    if st.button(\\'Predict\\'):\\n        prediction = predict_image(image_tensor)\\n        st.write(\"Prediction: **{}**\".format(\"Good Embryo\" if prediction == 1 else \"Bad Embryo\"))\\n'"
      ]
     },
     "execution_count": 13,
     "metadata": {},
     "output_type": "execute_result"
    }
   ],
   "execution_count": 13
  },
  {
   "cell_type": "code",
   "id": "zYkfHttzmEDP",
   "metadata": {
    "colab": {
     "base_uri": "https://localhost:8080/"
    },
    "id": "zYkfHttzmEDP",
    "outputId": "35554827-e49c-4488-ff06-625e10ba9bf6",
    "ExecuteTime": {
     "end_time": "2024-07-06T14:34:12.030550Z",
     "start_time": "2024-07-06T14:23:17.737270Z"
    }
   },
   "source": [
    "import torch\n",
    "import torch.nn as nn\n",
    "from torchvision import models, transforms\n",
    "from torch.utils.data import Dataset, DataLoader\n",
    "import pandas as pd\n",
    "import numpy as np\n",
    "import cv2\n",
    "from sklearn.model_selection import KFold, train_test_split\n",
    "import os\n",
    "\n",
    "# Set device for training\n",
    "device = torch.device(\"cuda\" if torch.cuda.is_available() else \"cpu\")\n",
    "\n",
    "# Data preparation\n",
    "ROOT_PATH = \"hvwc23-20240525T143849Z-001/hvwc23/\"\n",
    "data_df = pd.read_csv(f'{ROOT_PATH}/train.csv')\n",
    "data_df['path'] = ROOT_PATH + 'train/' + data_df['Image']\n",
    "\n",
    "# Assuming `data_df` is already defined with the necessary data\n",
    "# Splitting data into training and testing\n",
    "train_df, test_df = train_test_split(data_df, test_size=0.2, random_state=42)\n",
    "\n",
    "# Define the CNN model class\n",
    "class CNNModel(nn.Module):\n",
    "    def __init__(self):\n",
    "        super().__init__()\n",
    "        self.base_model = models.resnet18(pretrained=True)\n",
    "        self.base_model.fc = nn.Linear(self.base_model.fc.in_features, 2)\n",
    "\n",
    "    def forward(self, x):\n",
    "        return self.base_model(x)\n",
    "\n",
    "# Function to preprocess images\n",
    "def preprocess_jpeg(jpeg_path):\n",
    "    img = cv2.imread(jpeg_path)\n",
    "    img = cv2.cvtColor(img, cv2.COLOR_BGR2RGB)\n",
    "    img = cv2.resize(img, (224, 224))\n",
    "    return transforms.ToTensor()(img)\n",
    "\n",
    "# Custom Dataset class\n",
    "class EmbryoData(Dataset):\n",
    "    def __init__(self, dataframe, transform=None):\n",
    "        self.dataframe = dataframe\n",
    "        self.transform = transform\n",
    "\n",
    "    def __len__(self):\n",
    "        return len(self.dataframe)\n",
    "\n",
    "    def __getitem__(self, index):\n",
    "        img_path = self.dataframe.iloc[index]['path']\n",
    "        image = preprocess_jpeg(img_path)\n",
    "        label = self.dataframe.iloc[index]['Class']\n",
    "        return image, label, self.dataframe.iloc[index]['Image']\n",
    "\n",
    "# Training function with K-Fold Cross-Validation\n",
    "def train_kfold(num_epochs=3, num_folds=5):\n",
    "    kfold = KFold(n_splits=num_folds, shuffle=True, random_state=42)\n",
    "    best_accuracy = 0\n",
    "    best_model_state = None\n",
    "    metrics = {'epoch': [], 'fold': [], 'accuracy': [], 'loss': []}\n",
    "\n",
    "    for fold, (train_ids, val_ids) in enumerate(kfold.split(train_df)):\n",
    "        print(f'FOLD {fold}')\n",
    "        train_sub = train_df.iloc[train_ids]\n",
    "        val_sub = train_df.iloc[val_ids]\n",
    "\n",
    "        train_dataset = EmbryoData(train_sub)\n",
    "        val_dataset = EmbryoData(val_sub)\n",
    "\n",
    "        train_loader = DataLoader(train_dataset, batch_size=32, shuffle=True)\n",
    "        val_loader = DataLoader(val_dataset, batch_size=32, shuffle=False)\n",
    "\n",
    "        model = CNNModel().to(device)\n",
    "        criterion = nn.CrossEntropyLoss()\n",
    "        optimizer = torch.optim.Adam(model.parameters(), lr=1e-4)\n",
    "\n",
    "        for epoch in range(num_epochs):\n",
    "            model.train()\n",
    "            running_loss = 0.0\n",
    "            for images, labels, _ in train_loader:\n",
    "                images, labels = images.to(device), labels.to(device)\n",
    "                optimizer.zero_grad()\n",
    "                outputs = model(images)\n",
    "                loss = criterion(outputs, labels)\n",
    "                loss.backward()\n",
    "                optimizer.step()\n",
    "                running_loss += loss.item()\n",
    "\n",
    "            # Validate after every epoch\n",
    "            model.eval()\n",
    "            correct = 0\n",
    "            total = 0\n",
    "            val_loss = 0.0\n",
    "            with torch.no_grad():\n",
    "                for images, labels, _ in val_loader:\n",
    "                    images, labels = images.to(device), labels.to(device)\n",
    "                    outputs = model(images)\n",
    "                    _, predicted = torch.max(outputs.data, 1)\n",
    "                    total += labels.size(0)\n",
    "                    correct += (predicted == labels).sum().item()\n",
    "                    val_loss += criterion(outputs, labels).item()\n",
    "\n",
    "            accuracy = 100 * correct / total\n",
    "            avg_loss = val_loss / len(val_loader)\n",
    "            metrics['epoch'].append(epoch + 1)\n",
    "            metrics['fold'].append(fold + 1)\n",
    "            metrics['accuracy'].append(accuracy)\n",
    "            metrics['loss'].append(avg_loss)\n",
    "            print(f'Epoch [{epoch+1}/{num_epochs}], Fold [{fold+1}/{num_folds}], Accuracy: {accuracy:.2f}%, Loss: {avg_loss:.4f}')\n",
    "\n",
    "            if accuracy > best_accuracy:\n",
    "                best_accuracy = accuracy\n",
    "                best_model_state = model.state_dict()\n",
    "                print(f'New best model found at Fold {fold} with accuracy {accuracy}%')\n",
    "\n",
    "    metrics_df = pd.DataFrame(metrics)\n",
    "    metrics_df.to_csv('training_metrics.csv', index=False)\n",
    "    print(f'Best Validation Accuracy: {best_accuracy}%')\n",
    "    return best_model_state\n",
    "\n",
    "# Define a function to make predictions with the best model and save the results\n",
    "def predict_and_save_results(model_state_path, dataframe, output_csv_path):\n",
    "    if not os.path.exists(model_state_path):\n",
    "        print(\"Model state file not found.\")\n",
    "        return\n",
    "\n",
    "    model = CNNModel().to(device)\n",
    "    model.load_state_dict(torch.load(model_state_path))\n",
    "    model.eval()\n",
    "\n",
    "    dataset = EmbryoData(dataframe)\n",
    "    data_loader = DataLoader(dataset, batch_size=32, shuffle=False)\n",
    "\n",
    "    image_ids = []\n",
    "    predictions = []\n",
    "    with torch.no_grad():\n",
    "        for images, labels, ids in data_loader:\n",
    "            images = images.to(device)\n",
    "            outputs = model(images)\n",
    "            _, predicted = torch.max(outputs.data, 1)\n",
    "            image_ids.extend(ids)\n",
    "            predictions.extend(predicted.cpu().numpy())\n",
    "\n",
    "    results_df = pd.DataFrame({\n",
    "        'Image': image_ids,\n",
    "        'Predicted_Class': predictions\n",
    "    })\n",
    "    results_df.to_csv(output_csv_path, index=False)\n",
    "    print(f\"Predicted results saved to '{output_csv_path}'.\")\n",
    "\n",
    "# Run the training and get the best model state\n",
    "best_model_state = train_kfold(3, 5)\n",
    "torch.save(best_model_state, 'best_trained_model.pth')\n",
    "print(\"Best model saved as 'best_trained_model.pth'.\")\n",
    "\n",
    "# Run the final prediction on the test dataset and save the results\n",
    "best_model_path = 'best_trained_model.pth'\n",
    "results_csv_path = 'test_prediction_results.csv'\n",
    "predict_and_save_results(best_model_path, test_df, results_csv_path)\n"
   ],
   "outputs": [
    {
     "name": "stdout",
     "output_type": "stream",
     "text": [
      "FOLD 0\n"
     ]
    },
    {
     "name": "stderr",
     "output_type": "stream",
     "text": [
      "/Users/nipundimanthahevavitharanage/Documents/DIT/CV/venv/lib/python3.9/site-packages/torchvision/models/_utils.py:208: UserWarning: The parameter 'pretrained' is deprecated since 0.13 and may be removed in the future, please use 'weights' instead.\n",
      "  warnings.warn(\n",
      "/Users/nipundimanthahevavitharanage/Documents/DIT/CV/venv/lib/python3.9/site-packages/torchvision/models/_utils.py:223: UserWarning: Arguments other than a weight enum or `None` for 'weights' are deprecated since 0.13 and may be removed in the future. The current behavior is equivalent to passing `weights=ResNet18_Weights.IMAGENET1K_V1`. You can also use `weights=ResNet18_Weights.DEFAULT` to get the most up-to-date weights.\n",
      "  warnings.warn(msg)\n"
     ]
    },
    {
     "name": "stdout",
     "output_type": "stream",
     "text": [
      "Epoch [1/3], Fold [1/5], Accuracy: 83.70%, Loss: 0.3347\n",
      "New best model found at Fold 0 with accuracy 83.70370370370371%\n",
      "Epoch [2/3], Fold [1/5], Accuracy: 87.41%, Loss: 0.2724\n",
      "New best model found at Fold 0 with accuracy 87.4074074074074%\n",
      "Epoch [3/3], Fold [1/5], Accuracy: 88.15%, Loss: 0.2897\n",
      "New best model found at Fold 0 with accuracy 88.14814814814815%\n",
      "FOLD 1\n",
      "Epoch [1/3], Fold [2/5], Accuracy: 85.93%, Loss: 0.3670\n",
      "Epoch [2/3], Fold [2/5], Accuracy: 87.41%, Loss: 0.5081\n",
      "Epoch [3/3], Fold [2/5], Accuracy: 85.93%, Loss: 0.3470\n",
      "FOLD 2\n",
      "Epoch [1/3], Fold [3/5], Accuracy: 89.55%, Loss: 0.2694\n",
      "New best model found at Fold 2 with accuracy 89.55223880597015%\n",
      "Epoch [2/3], Fold [3/5], Accuracy: 89.55%, Loss: 0.2601\n",
      "Epoch [3/3], Fold [3/5], Accuracy: 90.30%, Loss: 0.2731\n",
      "New best model found at Fold 2 with accuracy 90.29850746268657%\n",
      "FOLD 3\n",
      "Epoch [1/3], Fold [4/5], Accuracy: 87.31%, Loss: 0.3036\n",
      "Epoch [2/3], Fold [4/5], Accuracy: 88.06%, Loss: 0.3108\n",
      "Epoch [3/3], Fold [4/5], Accuracy: 87.31%, Loss: 0.3455\n",
      "FOLD 4\n",
      "Epoch [1/3], Fold [5/5], Accuracy: 82.09%, Loss: 0.5225\n",
      "Epoch [2/3], Fold [5/5], Accuracy: 90.30%, Loss: 0.3058\n",
      "Epoch [3/3], Fold [5/5], Accuracy: 88.81%, Loss: 0.2803\n",
      "Best Validation Accuracy: 90.29850746268657%\n",
      "Best model saved as 'best_trained_model.pth'.\n",
      "Predicted results saved to 'test_prediction_results.csv'.\n"
     ]
    }
   ],
   "execution_count": 18
  },
  {
   "cell_type": "code",
   "source": [
    "%%writefile app.py\n",
    "import streamlit as st\n",
    "import torch\n",
    "from torchvision import models, transforms\n",
    "import cv2\n",
    "import numpy as np\n",
    "import torch.nn as nn\n",
    "import pandas as pd\n",
    "import matplotlib.pyplot as plt\n",
    "\n",
    "# Define the CNN model class as used previously\n",
    "class CNNModel(nn.Module):\n",
    "    def __init__(self):\n",
    "        super().__init__()\n",
    "        self.base_model = models.resnet18(pretrained=True)\n",
    "        self.base_model.fc = nn.Linear(self.base_model.fc.in_features, 2)\n",
    "\n",
    "    def forward(self, x):\n",
    "        return self.base_model(x)\n",
    "\n",
    "# Load the saved models\n",
    "device = torch.device(\"cuda\" if torch.cuda.is_available() else \"cpu\")\n",
    "model = CNNModel().to(device)\n",
    "model.load_state_dict(torch.load('best_trained_model.pth'))\n",
    "\n",
    "# Define preprocessing for uploaded images\n",
    "def preprocess_jpeg(jpeg_path):\n",
    "    img = cv2.imread(jpeg_path)\n",
    "    img = cv2.cvtColor(img, cv2.COLOR_BGR2RGB)\n",
    "    img = cv2.resize(img, (224, 224))\n",
    "    return transforms.ToTensor()(img).unsqueeze(0).to(device)\n",
    "\n",
    "# Prediction function\n",
    "def predict_image(image_tensor):\n",
    "    model.eval()\n",
    "    with torch.no_grad():\n",
    "        outputs = model(image_tensor)\n",
    "        _, predicted = torch.max(outputs.data, 1)\n",
    "    return predicted.item()\n",
    "\n",
    "# Streamlit interface\n",
    "st.title('Embryo Image Classification Dashboard')\n",
    "\n",
    "# Create two columns\n",
    "col1, col2 = st.columns(2)\n",
    "\n",
    "with col1:\n",
    "    uploaded_file = st.file_uploader(\"Choose an embryo image...\", type=[\"jpg\", \"jpeg\", \"png\"])\n",
    "\n",
    "    if uploaded_file is not None:\n",
    "        image_path = f\"temp_image.{uploaded_file.type.split('/')[1]}\"\n",
    "        with open(image_path, \"wb\") as f:\n",
    "            f.write(uploaded_file.getbuffer())\n",
    "        st.image(image_path, caption='Uploaded Image.', use_column_width=True)\n",
    "        image_tensor = preprocess_jpeg(image_path)\n",
    "        if st.button('Predict'):\n",
    "            prediction = predict_image(image_tensor)\n",
    "            if prediction == 1:\n",
    "                st.write(\"Prediction: **Good Embryo**\")\n",
    "                st.metric(label=\"Embryo Quality\", value=\"Good Embryo\")\n",
    "            else:\n",
    "                st.write(\"Prediction: **Bad Embryo**\")\n",
    "                st.metric(label=\"Embryo Quality\", value=\"Bad Embryo\")\n",
    "\n",
    "with col2:\n",
    "    # Load accuracy metrics from CSV\n",
    "    metrics_df = pd.read_csv('training_metrics.csv')\n",
    "\n",
    "    # Plot accuracy graph\n",
    "    fig, ax = plt.subplots()\n",
    "    for fold in metrics_df['fold'].unique():\n",
    "        fold_data = metrics_df[metrics_df['fold'] == fold]\n",
    "        ax.plot(fold_data['epoch'], fold_data['accuracy'], label=f'Fold {fold}')\n",
    "\n",
    "    ax.set_xlabel('Epoch')\n",
    "    ax.set_ylabel('Accuracy (%)')\n",
    "    ax.set_title('Training Accuracy per Epoch')\n",
    "    ax.legend()\n",
    "\n",
    "    st.pyplot(fig)\n"
   ],
   "metadata": {
    "colab": {
     "base_uri": "https://localhost:8080/"
    },
    "id": "4_3PzzbJLY06",
    "outputId": "785139d0-809c-4129-f4fe-3c6bf00b6896",
    "ExecuteTime": {
     "end_time": "2024-07-06T14:34:21.562840Z",
     "start_time": "2024-07-06T14:34:21.535938Z"
    }
   },
   "id": "4_3PzzbJLY06",
   "outputs": [
    {
     "name": "stdout",
     "output_type": "stream",
     "text": [
      "Writing app.py\n"
     ]
    }
   ],
   "execution_count": 19
  },
  {
   "metadata": {
    "ExecuteTime": {
     "end_time": "2024-07-06T14:38:50.179508Z",
     "start_time": "2024-07-06T14:38:40.335897Z"
    }
   },
   "cell_type": "code",
   "source": "!pip install streamlit torch torchvision opencv-python-headless numpy pandas matplotlib\n",
   "id": "924b1c87869ba97c",
   "outputs": [
    {
     "name": "stdout",
     "output_type": "stream",
     "text": [
      "Requirement already satisfied: streamlit in ./venv/lib/python3.9/site-packages (1.36.0)\r\n",
      "Requirement already satisfied: torch in ./venv/lib/python3.9/site-packages (2.3.1)\r\n",
      "Requirement already satisfied: torchvision in ./venv/lib/python3.9/site-packages (0.18.1)\r\n",
      "Collecting opencv-python-headless\r\n",
      "  Downloading opencv_python_headless-4.10.0.84-cp37-abi3-macosx_11_0_arm64.whl.metadata (20 kB)\r\n",
      "Requirement already satisfied: numpy in ./venv/lib/python3.9/site-packages (2.0.0)\r\n",
      "Requirement already satisfied: pandas in ./venv/lib/python3.9/site-packages (2.2.2)\r\n",
      "Requirement already satisfied: matplotlib in ./venv/lib/python3.9/site-packages (3.9.1)\r\n",
      "Requirement already satisfied: altair<6,>=4.0 in ./venv/lib/python3.9/site-packages (from streamlit) (5.3.0)\r\n",
      "Requirement already satisfied: blinker<2,>=1.0.0 in ./venv/lib/python3.9/site-packages (from streamlit) (1.8.2)\r\n",
      "Requirement already satisfied: cachetools<6,>=4.0 in ./venv/lib/python3.9/site-packages (from streamlit) (5.3.3)\r\n",
      "Requirement already satisfied: click<9,>=7.0 in ./venv/lib/python3.9/site-packages (from streamlit) (8.1.7)\r\n",
      "Requirement already satisfied: packaging<25,>=20 in ./venv/lib/python3.9/site-packages (from streamlit) (24.1)\r\n",
      "Requirement already satisfied: pillow<11,>=7.1.0 in ./venv/lib/python3.9/site-packages (from streamlit) (10.4.0)\r\n",
      "Requirement already satisfied: protobuf<6,>=3.20 in ./venv/lib/python3.9/site-packages (from streamlit) (5.27.2)\r\n",
      "Requirement already satisfied: pyarrow>=7.0 in ./venv/lib/python3.9/site-packages (from streamlit) (16.1.0)\r\n",
      "Requirement already satisfied: requests<3,>=2.27 in ./venv/lib/python3.9/site-packages (from streamlit) (2.32.3)\r\n",
      "Requirement already satisfied: rich<14,>=10.14.0 in ./venv/lib/python3.9/site-packages (from streamlit) (13.7.1)\r\n",
      "Requirement already satisfied: tenacity<9,>=8.1.0 in ./venv/lib/python3.9/site-packages (from streamlit) (8.5.0)\r\n",
      "Requirement already satisfied: toml<2,>=0.10.1 in ./venv/lib/python3.9/site-packages (from streamlit) (0.10.2)\r\n",
      "Requirement already satisfied: typing-extensions<5,>=4.3.0 in ./venv/lib/python3.9/site-packages (from streamlit) (4.12.2)\r\n",
      "Requirement already satisfied: gitpython!=3.1.19,<4,>=3.0.7 in ./venv/lib/python3.9/site-packages (from streamlit) (3.1.43)\r\n",
      "Requirement already satisfied: pydeck<1,>=0.8.0b4 in ./venv/lib/python3.9/site-packages (from streamlit) (0.9.1)\r\n",
      "Requirement already satisfied: tornado<7,>=6.0.3 in ./venv/lib/python3.9/site-packages (from streamlit) (6.4.1)\r\n",
      "Requirement already satisfied: filelock in ./venv/lib/python3.9/site-packages (from torch) (3.15.4)\r\n",
      "Requirement already satisfied: sympy in ./venv/lib/python3.9/site-packages (from torch) (1.12.1)\r\n",
      "Requirement already satisfied: networkx in ./venv/lib/python3.9/site-packages (from torch) (3.2.1)\r\n",
      "Requirement already satisfied: jinja2 in ./venv/lib/python3.9/site-packages (from torch) (3.1.4)\r\n",
      "Requirement already satisfied: fsspec in ./venv/lib/python3.9/site-packages (from torch) (2024.6.1)\r\n",
      "Requirement already satisfied: python-dateutil>=2.8.2 in ./venv/lib/python3.9/site-packages (from pandas) (2.9.0.post0)\r\n",
      "Requirement already satisfied: pytz>=2020.1 in ./venv/lib/python3.9/site-packages (from pandas) (2024.1)\r\n",
      "Requirement already satisfied: tzdata>=2022.7 in ./venv/lib/python3.9/site-packages (from pandas) (2024.1)\r\n",
      "Requirement already satisfied: contourpy>=1.0.1 in ./venv/lib/python3.9/site-packages (from matplotlib) (1.2.1)\r\n",
      "Requirement already satisfied: cycler>=0.10 in ./venv/lib/python3.9/site-packages (from matplotlib) (0.12.1)\r\n",
      "Requirement already satisfied: fonttools>=4.22.0 in ./venv/lib/python3.9/site-packages (from matplotlib) (4.53.1)\r\n",
      "Requirement already satisfied: kiwisolver>=1.3.1 in ./venv/lib/python3.9/site-packages (from matplotlib) (1.4.5)\r\n",
      "Requirement already satisfied: pyparsing>=2.3.1 in ./venv/lib/python3.9/site-packages (from matplotlib) (3.1.2)\r\n",
      "Requirement already satisfied: importlib-resources>=3.2.0 in ./venv/lib/python3.9/site-packages (from matplotlib) (6.4.0)\r\n",
      "Requirement already satisfied: jsonschema>=3.0 in ./venv/lib/python3.9/site-packages (from altair<6,>=4.0->streamlit) (4.22.0)\r\n",
      "Requirement already satisfied: toolz in ./venv/lib/python3.9/site-packages (from altair<6,>=4.0->streamlit) (0.12.1)\r\n",
      "Requirement already satisfied: gitdb<5,>=4.0.1 in ./venv/lib/python3.9/site-packages (from gitpython!=3.1.19,<4,>=3.0.7->streamlit) (4.0.11)\r\n",
      "Requirement already satisfied: zipp>=3.1.0 in ./venv/lib/python3.9/site-packages (from importlib-resources>=3.2.0->matplotlib) (3.19.2)\r\n",
      "Requirement already satisfied: MarkupSafe>=2.0 in ./venv/lib/python3.9/site-packages (from jinja2->torch) (2.1.5)\r\n",
      "Requirement already satisfied: six>=1.5 in ./venv/lib/python3.9/site-packages (from python-dateutil>=2.8.2->pandas) (1.16.0)\r\n",
      "Requirement already satisfied: charset-normalizer<4,>=2 in ./venv/lib/python3.9/site-packages (from requests<3,>=2.27->streamlit) (3.3.2)\r\n",
      "Requirement already satisfied: idna<4,>=2.5 in ./venv/lib/python3.9/site-packages (from requests<3,>=2.27->streamlit) (3.7)\r\n",
      "Requirement already satisfied: urllib3<3,>=1.21.1 in ./venv/lib/python3.9/site-packages (from requests<3,>=2.27->streamlit) (2.2.2)\r\n",
      "Requirement already satisfied: certifi>=2017.4.17 in ./venv/lib/python3.9/site-packages (from requests<3,>=2.27->streamlit) (2024.7.4)\r\n",
      "Requirement already satisfied: markdown-it-py>=2.2.0 in ./venv/lib/python3.9/site-packages (from rich<14,>=10.14.0->streamlit) (3.0.0)\r\n",
      "Requirement already satisfied: pygments<3.0.0,>=2.13.0 in ./venv/lib/python3.9/site-packages (from rich<14,>=10.14.0->streamlit) (2.18.0)\r\n",
      "Requirement already satisfied: mpmath<1.4.0,>=1.1.0 in ./venv/lib/python3.9/site-packages (from sympy->torch) (1.3.0)\r\n",
      "Requirement already satisfied: smmap<6,>=3.0.1 in ./venv/lib/python3.9/site-packages (from gitdb<5,>=4.0.1->gitpython!=3.1.19,<4,>=3.0.7->streamlit) (5.0.1)\r\n",
      "Requirement already satisfied: attrs>=22.2.0 in ./venv/lib/python3.9/site-packages (from jsonschema>=3.0->altair<6,>=4.0->streamlit) (23.2.0)\r\n",
      "Requirement already satisfied: jsonschema-specifications>=2023.03.6 in ./venv/lib/python3.9/site-packages (from jsonschema>=3.0->altair<6,>=4.0->streamlit) (2023.12.1)\r\n",
      "Requirement already satisfied: referencing>=0.28.4 in ./venv/lib/python3.9/site-packages (from jsonschema>=3.0->altair<6,>=4.0->streamlit) (0.35.1)\r\n",
      "Requirement already satisfied: rpds-py>=0.7.1 in ./venv/lib/python3.9/site-packages (from jsonschema>=3.0->altair<6,>=4.0->streamlit) (0.18.1)\r\n",
      "Requirement already satisfied: mdurl~=0.1 in ./venv/lib/python3.9/site-packages (from markdown-it-py>=2.2.0->rich<14,>=10.14.0->streamlit) (0.1.2)\r\n",
      "Downloading opencv_python_headless-4.10.0.84-cp37-abi3-macosx_11_0_arm64.whl (54.8 MB)\r\n",
      "\u001B[2K   \u001B[90m━━━━━━━━━━━━━━━━━━━━━━━━━━━━━━━━━━━━━━━━\u001B[0m \u001B[32m54.8/54.8 MB\u001B[0m \u001B[31m6.0 MB/s\u001B[0m eta \u001B[36m0:00:00\u001B[0m00:01\u001B[0m00:01\u001B[0m\r\n",
      "\u001B[?25hInstalling collected packages: opencv-python-headless\r\n",
      "Successfully installed opencv-python-headless-4.10.0.84\r\n"
     ]
    }
   ],
   "execution_count": 25
  }
 ],
 "metadata": {
  "accelerator": "GPU",
  "colab": {
   "gpuType": "T4",
   "provenance": []
  },
  "kernelspec": {
   "display_name": "Python 3 (ipykernel)",
   "name": "python3",
   "language": "python"
  },
  "language_info": {
   "codemirror_mode": {
    "name": "ipython",
    "version": 3
   },
   "file_extension": ".py",
   "mimetype": "text/x-python",
   "name": "python",
   "nbconvert_exporter": "python",
   "pygments_lexer": "ipython3",
   "version": "3.10.12"
  },
  "papermill": {
   "default_parameters": {},
   "duration": 1950.499028,
   "end_time": "2023-10-26T04:22:05.103342",
   "environment_variables": {},
   "exception": null,
   "input_path": "__notebook__.ipynb",
   "output_path": "__notebook__.ipynb",
   "parameters": {},
   "start_time": "2023-10-26T03:49:34.604314",
   "version": "2.4.0"
  }
 },
 "nbformat": 4,
 "nbformat_minor": 5
}
